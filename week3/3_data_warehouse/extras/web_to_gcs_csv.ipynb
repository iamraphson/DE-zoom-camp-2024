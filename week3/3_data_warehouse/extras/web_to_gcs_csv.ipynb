{
 "cells": [
  {
   "cell_type": "code",
   "execution_count": 1,
   "id": "2d423f98-cc08-4308-88bc-5c6533237c39",
   "metadata": {},
   "outputs": [],
   "source": [
    "import os\n",
    "import pandas as pd\n",
    "from google.cloud import storage\n",
    "import requests\n",
    "\n",
    "os.environ['GOOGLE_APPLICATION_CREDENTIALS'] = os.environ.get('GOOGLE_CREDENTIALS')\n",
    "BUCKET = os.environ.get(\"GCP_GCS_BUCKET\", 'dezoomcamp_2024_storage_bucket_radiant-gateway-412001')\n",
    "\n",
    "init_url = 'https://github.com/DataTalksClub/nyc-tlc-data/releases/download'"
   ]
  },
  {
   "cell_type": "code",
   "execution_count": 2,
   "id": "15061151-e120-436c-b04c-31e0a445371f",
   "metadata": {},
   "outputs": [],
   "source": [
    "def download_dataset(url, target):\n",
    "    r = requests.get(url)\n",
    "    open(target, 'wb').write(r.content)\n",
    "            \n",
    "def web_to_gcs_cvs(year, service):\n",
    "    for i in range(1, 13):\n",
    "        month = f'0{i}'\n",
    "        month = month[-2:]\n",
    "        file_name = f'{service}_tripdata_{year}-{month}.csv.gz'\n",
    "        \n",
    "        request_url = f'{init_url}/{service}/{file_name}'\n",
    "        download_dataset(request_url, file_name)\n",
    "        upload_csv_to_gcs(BUCKET, f'{service}_{year}_csv/{file_name}', file_name)\n",
    "\n",
    "def upload_csv_to_gcs(bucket_name, object_name, local_file):\n",
    "    storage.blob._MAX_MULTIPART_SIZE = 5 * 1024 * 1024  # 5 MB\n",
    "    storage.blob._DEFAULT_CHUNKSIZE = 5 * 1024 * 1024  # 5 MB\n",
    "    \n",
    "    client = storage.Client()\n",
    "    bucket = client.bucket(bucket_name)\n",
    "    \n",
    "    blob = bucket.blob(object_name)\n",
    "    blob.upload_from_filename(local_file)\n"
   ]
  },
  {
   "cell_type": "code",
   "execution_count": 3,
   "id": "8448de31-4e03-4cee-a693-6aa5980aa121",
   "metadata": {},
   "outputs": [],
   "source": [
    "web_to_gcs_cvs('2019', 'green')\n",
    "web_to_gcs_cvs('2020', 'green')"
   ]
  },
  {
   "cell_type": "code",
   "execution_count": null,
   "id": "27043c5f-7f57-4370-a4ea-a2bc3ddf72a8",
   "metadata": {},
   "outputs": [],
   "source": []
  }
 ],
 "metadata": {
  "kernelspec": {
   "display_name": "Python 3 (ipykernel)",
   "language": "python",
   "name": "python3"
  },
  "language_info": {
   "codemirror_mode": {
    "name": "ipython",
    "version": 3
   },
   "file_extension": ".py",
   "mimetype": "text/x-python",
   "name": "python",
   "nbconvert_exporter": "python",
   "pygments_lexer": "ipython3",
   "version": "3.11.1"
  }
 },
 "nbformat": 4,
 "nbformat_minor": 5
}
