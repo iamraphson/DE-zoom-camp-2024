{
 "cells": [
  {
   "cell_type": "code",
   "execution_count": 1,
   "id": "a63a9458-0dd2-4af9-aaae-1fd6691737ed",
   "metadata": {},
   "outputs": [],
   "source": [
    "import os\n",
    "import pandas as pd\n",
    "from google.cloud import storage\n",
    "import requests\n",
    "\n",
    "os.environ['GOOGLE_APPLICATION_CREDENTIALS'] = os.environ.get('GOOGLE_CREDENTIALS')\n",
    "BUCKET = os.environ.get(\"GCP_GCS_BUCKET\", 'dezoomcamp_2024_storage_bucket_radiant-gateway-412001')\n",
    "\n",
    "init_url = 'https://d37ci6vzurychx.cloudfront.net/trip-data/'\n",
    "#init_url = 'https://d37ci6vzurychx.cloudfront.net/trip-data/green_tripdata_2022-01.parquet'"
   ]
  },
  {
   "cell_type": "code",
   "execution_count": 2,
   "id": "46bc6f5e-6862-45c9-82bd-d2024b579c2f",
   "metadata": {},
   "outputs": [],
   "source": [
    "def download_dataset(url, target):\n",
    "    r = requests.get(url)\n",
    "    open(target, 'wb').write(r.content)\n",
    "            \n",
    "def web_to_gcs_parquet(year, service):\n",
    "    for i in range(1, 13):\n",
    "        month = f'0{i}'\n",
    "        month = month[-2:]\n",
    "        file_name = f'{service}_tripdata_{year}-{month}.parquet'\n",
    "        \n",
    "        request_url = f'{init_url}{file_name}'\n",
    "        download_dataset(request_url, file_name)\n",
    "        upload_csv_to_gcs(BUCKET, f'{service}_{year}_parquet/{file_name}', file_name)\n",
    "\n",
    "def upload_csv_to_gcs(bucket_name, object_name, local_file):\n",
    "    storage.blob._MAX_MULTIPART_SIZE = 5 * 1024 * 1024  # 5 MB\n",
    "    storage.blob._DEFAULT_CHUNKSIZE = 5 * 1024 * 1024  # 5 MB\n",
    "    \n",
    "    client = storage.Client()\n",
    "    bucket = client.bucket(bucket_name)\n",
    "    \n",
    "    blob = bucket.blob(object_name)\n",
    "    blob.upload_from_filename(local_file)\n"
   ]
  },
  {
   "cell_type": "code",
   "execution_count": 3,
   "id": "53e699f5-1074-4f72-a1a9-efd88b76e12f",
   "metadata": {},
   "outputs": [],
   "source": [
    "web_to_gcs_parquet(2022, 'green')"
   ]
  },
  {
   "cell_type": "code",
   "execution_count": null,
   "id": "bf8c2b1d-a34e-40b3-a1f7-387029116989",
   "metadata": {},
   "outputs": [],
   "source": []
  }
 ],
 "metadata": {
  "kernelspec": {
   "display_name": "Python 3 (ipykernel)",
   "language": "python",
   "name": "python3"
  },
  "language_info": {
   "codemirror_mode": {
    "name": "ipython",
    "version": 3
   },
   "file_extension": ".py",
   "mimetype": "text/x-python",
   "name": "python",
   "nbconvert_exporter": "python",
   "pygments_lexer": "ipython3",
   "version": "3.11.1"
  }
 },
 "nbformat": 4,
 "nbformat_minor": 5
}
