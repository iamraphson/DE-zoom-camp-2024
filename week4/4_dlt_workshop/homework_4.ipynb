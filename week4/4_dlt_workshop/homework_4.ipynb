{
 "cells": [
  {
   "cell_type": "markdown",
   "id": "3f5c6ad8-29a2-47cb-a6b4-ef8da75b4b2e",
   "metadata": {},
   "source": [
    "# Homework: Data talks club data engineering zoomcamp Data loading workshop"
   ]
  },
  {
   "cell_type": "markdown",
   "id": "6485ec2a-ad47-4228-8fac-a365bd41b3be",
   "metadata": {},
   "source": [
    "Question 1. What is the sum of the outputs of the generator for limit = 5? (1 point)"
   ]
  },
  {
   "cell_type": "code",
   "execution_count": 1,
   "id": "43aa2ea4-9ca0-413a-a9ab-01fc1edc62c8",
   "metadata": {},
   "outputs": [
    {
     "name": "stdout",
     "output_type": "stream",
     "text": [
      "1.0\n",
      "1.4142135623730951\n",
      "1.7320508075688772\n",
      "2.0\n",
      "2.23606797749979\n",
      "The sum is 8.382332347441762\n"
     ]
    }
   ],
   "source": [
    "def square_root_generator(limit):\n",
    "    n = 1\n",
    "    while n <= limit:\n",
    "        yield n ** 0.5\n",
    "        n += 1\n",
    "\n",
    "generator = square_root_generator(5)\n",
    "values = []\n",
    "for n_sqrt in generator:\n",
    "    values.append(n_sqrt)\n",
    "    print(n_sqrt)\n",
    "\n",
    "\n",
    "print(f'The sum is {sum(values)}')"
   ]
  },
  {
   "cell_type": "markdown",
   "id": "be5e6155-2851-4af3-9210-7639d87962e7",
   "metadata": {},
   "source": [
    "Question 2: What is the 13th number yielded by the generator?"
   ]
  },
  {
   "cell_type": "code",
   "execution_count": 2,
   "id": "adcd202a-1dae-4de8-8b06-dfd9bee80719",
   "metadata": {},
   "outputs": [
    {
     "name": "stdout",
     "output_type": "stream",
     "text": [
      "13th number 3.605551275463989\n"
     ]
    }
   ],
   "source": [
    "def square_root_generator(limit):\n",
    "    n = 1\n",
    "    while n <= limit:\n",
    "        yield n ** 0.5\n",
    "        n += 1\n",
    "\n",
    "generator = square_root_generator(14)\n",
    "count = 1\n",
    "for n_sqrt in generator:\n",
    "    if count == 13:\n",
    "        print('13th number', n_sqrt)\n",
    "    count +=1\n",
    "    \n"
   ]
  },
  {
   "cell_type": "markdown",
   "id": "8ea7d586-9c69-4dbb-820d-57e900a0611c",
   "metadata": {},
   "source": [
    "Question 3: Append the 2 generators. After correctly appending the data, calculate the sum of all ages of people."
   ]
  },
  {
   "cell_type": "code",
   "execution_count": 3,
   "id": "d41ffa5f-a640-4ed9-a3a8-e68b14c48691",
   "metadata": {},
   "outputs": [
    {
     "name": "stdout",
     "output_type": "stream",
     "text": [
      "Requirement already satisfied: dlt in /Library/Frameworks/Python.framework/Versions/3.11/lib/python3.11/site-packages (0.4.4)\n",
      "Requirement already satisfied: duckdb in /Library/Frameworks/Python.framework/Versions/3.11/lib/python3.11/site-packages (0.10.0)\n",
      "Requirement already satisfied: PyYAML>=5.4.1 in /Library/Frameworks/Python.framework/Versions/3.11/lib/python3.11/site-packages (from dlt) (6.0)\n",
      "Requirement already satisfied: SQLAlchemy>=1.4.0 in /Library/Frameworks/Python.framework/Versions/3.11/lib/python3.11/site-packages (from dlt) (1.4.46)\n",
      "Requirement already satisfied: astunparse>=1.6.3 in /Library/Frameworks/Python.framework/Versions/3.11/lib/python3.11/site-packages (from dlt) (1.6.3)\n",
      "Requirement already satisfied: click>=7.1 in /Library/Frameworks/Python.framework/Versions/3.11/lib/python3.11/site-packages (from dlt) (8.1.3)\n",
      "Requirement already satisfied: fsspec>=2022.4.0 in /Library/Frameworks/Python.framework/Versions/3.11/lib/python3.11/site-packages (from dlt) (2024.2.0)\n",
      "Requirement already satisfied: gitpython>=3.1.29 in /Library/Frameworks/Python.framework/Versions/3.11/lib/python3.11/site-packages (from dlt) (3.1.42)\n",
      "Requirement already satisfied: giturlparse>=0.10.0 in /Library/Frameworks/Python.framework/Versions/3.11/lib/python3.11/site-packages (from dlt) (0.12.0)\n",
      "Requirement already satisfied: hexbytes>=0.2.2 in /Library/Frameworks/Python.framework/Versions/3.11/lib/python3.11/site-packages (from dlt) (1.0.0)\n",
      "Requirement already satisfied: humanize>=4.4.0 in /Library/Frameworks/Python.framework/Versions/3.11/lib/python3.11/site-packages (from dlt) (4.9.0)\n",
      "Requirement already satisfied: jsonpath-ng>=1.5.3 in /Library/Frameworks/Python.framework/Versions/3.11/lib/python3.11/site-packages (from dlt) (1.6.1)\n",
      "Requirement already satisfied: makefun>=1.15.0 in /Library/Frameworks/Python.framework/Versions/3.11/lib/python3.11/site-packages (from dlt) (1.15.2)\n",
      "Requirement already satisfied: orjson<=3.9.10,>=3.6.7 in /Library/Frameworks/Python.framework/Versions/3.11/lib/python3.11/site-packages (from dlt) (3.9.10)\n",
      "Requirement already satisfied: packaging>=21.1 in /Library/Frameworks/Python.framework/Versions/3.11/lib/python3.11/site-packages (from dlt) (23.1)\n",
      "Requirement already satisfied: pathvalidate>=2.5.2 in /Library/Frameworks/Python.framework/Versions/3.11/lib/python3.11/site-packages (from dlt) (3.2.0)\n",
      "Requirement already satisfied: pendulum>=2.1.2 in /Library/Frameworks/Python.framework/Versions/3.11/lib/python3.11/site-packages (from dlt) (2.1.2)\n",
      "Requirement already satisfied: pytz>=2022.6 in /Library/Frameworks/Python.framework/Versions/3.11/lib/python3.11/site-packages (from dlt) (2023.3)\n",
      "Requirement already satisfied: requests>=2.26.0 in /Library/Frameworks/Python.framework/Versions/3.11/lib/python3.11/site-packages (from dlt) (2.28.2)\n",
      "Requirement already satisfied: requirements-parser>=0.5.0 in /Library/Frameworks/Python.framework/Versions/3.11/lib/python3.11/site-packages (from dlt) (0.5.0)\n",
      "Requirement already satisfied: semver>=2.13.0 in /Library/Frameworks/Python.framework/Versions/3.11/lib/python3.11/site-packages (from dlt) (3.0.2)\n",
      "Requirement already satisfied: setuptools>=65.6.0 in /Library/Frameworks/Python.framework/Versions/3.11/lib/python3.11/site-packages (from dlt) (66.1.1)\n",
      "Requirement already satisfied: simplejson>=3.17.5 in /Library/Frameworks/Python.framework/Versions/3.11/lib/python3.11/site-packages (from dlt) (3.19.2)\n",
      "Requirement already satisfied: tenacity>=8.0.2 in /Library/Frameworks/Python.framework/Versions/3.11/lib/python3.11/site-packages (from dlt) (8.2.2)\n",
      "Requirement already satisfied: tomlkit>=0.11.3 in /Library/Frameworks/Python.framework/Versions/3.11/lib/python3.11/site-packages (from dlt) (0.12.3)\n",
      "Requirement already satisfied: typing-extensions>=4.0.0 in /Library/Frameworks/Python.framework/Versions/3.11/lib/python3.11/site-packages (from dlt) (4.4.0)\n",
      "Requirement already satisfied: tzdata>=2022.1 in /Library/Frameworks/Python.framework/Versions/3.11/lib/python3.11/site-packages (from dlt) (2023.3)\n",
      "Requirement already satisfied: wheel<1.0,>=0.23.0 in /Library/Frameworks/Python.framework/Versions/3.11/lib/python3.11/site-packages (from astunparse>=1.6.3->dlt) (0.42.0)\n",
      "Requirement already satisfied: six<2.0,>=1.6.1 in /Library/Frameworks/Python.framework/Versions/3.11/lib/python3.11/site-packages (from astunparse>=1.6.3->dlt) (1.16.0)\n",
      "Requirement already satisfied: gitdb<5,>=4.0.1 in /Library/Frameworks/Python.framework/Versions/3.11/lib/python3.11/site-packages (from gitpython>=3.1.29->dlt) (4.0.11)\n",
      "Requirement already satisfied: ply in /Library/Frameworks/Python.framework/Versions/3.11/lib/python3.11/site-packages (from jsonpath-ng>=1.5.3->dlt) (3.11)\n",
      "Requirement already satisfied: python-dateutil<3.0,>=2.6 in /Library/Frameworks/Python.framework/Versions/3.11/lib/python3.11/site-packages (from pendulum>=2.1.2->dlt) (2.8.2)\n",
      "Requirement already satisfied: pytzdata>=2020.1 in /Library/Frameworks/Python.framework/Versions/3.11/lib/python3.11/site-packages (from pendulum>=2.1.2->dlt) (2020.1)\n",
      "Requirement already satisfied: charset-normalizer<4,>=2 in /Library/Frameworks/Python.framework/Versions/3.11/lib/python3.11/site-packages (from requests>=2.26.0->dlt) (3.0.1)\n",
      "Requirement already satisfied: idna<4,>=2.5 in /Library/Frameworks/Python.framework/Versions/3.11/lib/python3.11/site-packages (from requests>=2.26.0->dlt) (3.4)\n",
      "Requirement already satisfied: urllib3<1.27,>=1.21.1 in /Library/Frameworks/Python.framework/Versions/3.11/lib/python3.11/site-packages (from requests>=2.26.0->dlt) (1.26.14)\n",
      "Requirement already satisfied: certifi>=2017.4.17 in /Library/Frameworks/Python.framework/Versions/3.11/lib/python3.11/site-packages (from requests>=2.26.0->dlt) (2022.12.7)\n",
      "Requirement already satisfied: types-setuptools>=57.0.0 in /Library/Frameworks/Python.framework/Versions/3.11/lib/python3.11/site-packages (from requirements-parser>=0.5.0->dlt) (69.1.0.20240217)\n",
      "Requirement already satisfied: smmap<6,>=3.0.1 in /Library/Frameworks/Python.framework/Versions/3.11/lib/python3.11/site-packages (from gitdb<5,>=4.0.1->gitpython>=3.1.29->dlt) (5.0.1)\n",
      "Note: you may need to restart the kernel to use updated packages.\n"
     ]
    }
   ],
   "source": [
    "%pip install -U dlt duckdb"
   ]
  },
  {
   "cell_type": "code",
   "execution_count": 4,
   "id": "d96d5580-c42c-4e5e-8c3a-4e51e0baf147",
   "metadata": {},
   "outputs": [
    {
     "name": "stdout",
     "output_type": "stream",
     "text": [
      "{'ID': 1, 'Name': 'Person_1', 'Age': 26, 'City': 'City_A'}\n",
      "{'ID': 2, 'Name': 'Person_2', 'Age': 27, 'City': 'City_A'}\n",
      "{'ID': 3, 'Name': 'Person_3', 'Age': 28, 'City': 'City_A'}\n",
      "{'ID': 4, 'Name': 'Person_4', 'Age': 29, 'City': 'City_A'}\n",
      "{'ID': 5, 'Name': 'Person_5', 'Age': 30, 'City': 'City_A'}\n",
      "Pipeline dlt_ipykernel_launcher load step completed in 0.22 seconds\n",
      "1 load package(s) were loaded to destination duckdb and into dataset people_dataset\n",
      "The duckdb destination used duckdb:////Users/iamraphson/instinct-seekers/open-source/DE-zoom-camp-2024/week4/4_dlt_workshop/dlt_ipykernel_launcher.duckdb location to store data\n",
      "Load package 1708492132.68431 is LOADED and contains no failed jobs\n"
     ]
    }
   ],
   "source": [
    "import dlt\n",
    "import duckdb\n",
    "\n",
    "def people1():\n",
    "    for i in range(1, 6):\n",
    "        yield { 'ID': i, 'Name': f'Person_{i}', 'Age': 25 + i, 'City': 'City_A'}\n",
    "\n",
    "for person in people1():\n",
    "    print(person)\n",
    "\n",
    "pipeline = dlt.pipeline(destination='duckdb', dataset_name='people_dataset')\n",
    "load_info = pipeline.run(people1(), table_name=\"persons\", write_disposition=\"replace\")\n",
    "print(load_info)"
   ]
  },
  {
   "cell_type": "code",
   "execution_count": 5,
   "id": "b5428c31-1008-4bd2-a735-1f41458b4f97",
   "metadata": {},
   "outputs": [
    {
     "name": "stdout",
     "output_type": "stream",
     "text": [
      "Tables: \n",
      "┌─────────────────────┐\n",
      "│        name         │\n",
      "│       varchar       │\n",
      "├─────────────────────┤\n",
      "│ _dlt_loads          │\n",
      "│ _dlt_pipeline_state │\n",
      "│ _dlt_version        │\n",
      "│ persons             │\n",
      "└─────────────────────┘\n",
      "\n"
     ]
    },
    {
     "data": {
      "text/html": [
       "<div>\n",
       "<style scoped>\n",
       "    .dataframe tbody tr th:only-of-type {\n",
       "        vertical-align: middle;\n",
       "    }\n",
       "\n",
       "    .dataframe tbody tr th {\n",
       "        vertical-align: top;\n",
       "    }\n",
       "\n",
       "    .dataframe thead th {\n",
       "        text-align: right;\n",
       "    }\n",
       "</style>\n",
       "<table border=\"1\" class=\"dataframe\">\n",
       "  <thead>\n",
       "    <tr style=\"text-align: right;\">\n",
       "      <th></th>\n",
       "      <th>id</th>\n",
       "      <th>name</th>\n",
       "      <th>age</th>\n",
       "      <th>city</th>\n",
       "      <th>_dlt_load_id</th>\n",
       "      <th>_dlt_id</th>\n",
       "      <th>occupation</th>\n",
       "    </tr>\n",
       "  </thead>\n",
       "  <tbody>\n",
       "    <tr>\n",
       "      <th>0</th>\n",
       "      <td>1</td>\n",
       "      <td>Person_1</td>\n",
       "      <td>26</td>\n",
       "      <td>City_A</td>\n",
       "      <td>1708492132.68431</td>\n",
       "      <td>mcGo1JXGUcwsqw</td>\n",
       "      <td>None</td>\n",
       "    </tr>\n",
       "    <tr>\n",
       "      <th>1</th>\n",
       "      <td>2</td>\n",
       "      <td>Person_2</td>\n",
       "      <td>27</td>\n",
       "      <td>City_A</td>\n",
       "      <td>1708492132.68431</td>\n",
       "      <td>1eZgp8i1XdWDRQ</td>\n",
       "      <td>None</td>\n",
       "    </tr>\n",
       "    <tr>\n",
       "      <th>2</th>\n",
       "      <td>3</td>\n",
       "      <td>Person_3</td>\n",
       "      <td>28</td>\n",
       "      <td>City_A</td>\n",
       "      <td>1708492132.68431</td>\n",
       "      <td>ESGIDz/aijVM3w</td>\n",
       "      <td>None</td>\n",
       "    </tr>\n",
       "    <tr>\n",
       "      <th>3</th>\n",
       "      <td>4</td>\n",
       "      <td>Person_4</td>\n",
       "      <td>29</td>\n",
       "      <td>City_A</td>\n",
       "      <td>1708492132.68431</td>\n",
       "      <td>ibaqdwuYW1FN8A</td>\n",
       "      <td>None</td>\n",
       "    </tr>\n",
       "    <tr>\n",
       "      <th>4</th>\n",
       "      <td>5</td>\n",
       "      <td>Person_5</td>\n",
       "      <td>30</td>\n",
       "      <td>City_A</td>\n",
       "      <td>1708492132.68431</td>\n",
       "      <td>GSwjYHMCrc66HQ</td>\n",
       "      <td>None</td>\n",
       "    </tr>\n",
       "  </tbody>\n",
       "</table>\n",
       "</div>"
      ],
      "text/plain": [
       "   id      name  age    city      _dlt_load_id         _dlt_id occupation\n",
       "0   1  Person_1   26  City_A  1708492132.68431  mcGo1JXGUcwsqw       None\n",
       "1   2  Person_2   27  City_A  1708492132.68431  1eZgp8i1XdWDRQ       None\n",
       "2   3  Person_3   28  City_A  1708492132.68431  ESGIDz/aijVM3w       None\n",
       "3   4  Person_4   29  City_A  1708492132.68431  ibaqdwuYW1FN8A       None\n",
       "4   5  Person_5   30  City_A  1708492132.68431  GSwjYHMCrc66HQ       None"
      ]
     },
     "execution_count": 5,
     "metadata": {},
     "output_type": "execute_result"
    }
   ],
   "source": [
    "connection = duckdb.connect(f'{pipeline.pipeline_name}.duckdb')\n",
    "connection.sql(f\"SET search_path = '{pipeline.dataset_name}'\")\n",
    "\n",
    "print(f'Tables: \\n{connection.sql(\"show tables\")}')\n",
    "connection.sql(\"select * from persons\").df()\n"
   ]
  },
  {
   "cell_type": "code",
   "execution_count": 6,
   "id": "292b2864-78b7-4aeb-a5ba-14ab840fc4b3",
   "metadata": {},
   "outputs": [
    {
     "name": "stdout",
     "output_type": "stream",
     "text": [
      "Sum of age from 1st generator 140\n"
     ]
    }
   ],
   "source": [
    "#sum of the 1st generator\n",
    "\n",
    "sum_of_ages = 0\n",
    "for person in people1():\n",
    "    sum_of_ages += person['Age']\n",
    "\n",
    "print('Sum of age from 1st generator', sum_of_ages)"
   ]
  },
  {
   "cell_type": "code",
   "execution_count": 7,
   "id": "ae6a6fc6-2d8d-403d-90d0-677d1962a8b9",
   "metadata": {},
   "outputs": [
    {
     "name": "stdout",
     "output_type": "stream",
     "text": [
      "Pipeline dlt_ipykernel_launcher load step completed in 0.18 seconds\n",
      "1 load package(s) were loaded to destination duckdb and into dataset people_dataset\n",
      "The duckdb destination used duckdb:////Users/iamraphson/instinct-seekers/open-source/DE-zoom-camp-2024/week4/4_dlt_workshop/dlt_ipykernel_launcher.duckdb location to store data\n",
      "Load package 1708492133.478368 is LOADED and contains no failed jobs\n"
     ]
    }
   ],
   "source": [
    "def people2():\n",
    "    for i in range(3, 9):\n",
    "        yield { 'ID': i, 'Name': f'Person_{i}', 'Age': 30 + i, 'City': 'City_B', 'Occupation': f'Job_{i}'}\n",
    "\n",
    "load_info = pipeline.run(people2(), table_name=\"persons\", write_disposition=\"append\")\n",
    "print(load_info)"
   ]
  },
  {
   "cell_type": "code",
   "execution_count": 8,
   "id": "e5cc46fd-5b65-4d2c-9a02-02ae2dad998c",
   "metadata": {},
   "outputs": [
    {
     "name": "stdout",
     "output_type": "stream",
     "text": [
      "Tables: \n",
      "┌─────────────────────┐\n",
      "│        name         │\n",
      "│       varchar       │\n",
      "├─────────────────────┤\n",
      "│ _dlt_loads          │\n",
      "│ _dlt_pipeline_state │\n",
      "│ _dlt_version        │\n",
      "│ persons             │\n",
      "└─────────────────────┘\n",
      "\n"
     ]
    },
    {
     "data": {
      "text/html": [
       "<div>\n",
       "<style scoped>\n",
       "    .dataframe tbody tr th:only-of-type {\n",
       "        vertical-align: middle;\n",
       "    }\n",
       "\n",
       "    .dataframe tbody tr th {\n",
       "        vertical-align: top;\n",
       "    }\n",
       "\n",
       "    .dataframe thead th {\n",
       "        text-align: right;\n",
       "    }\n",
       "</style>\n",
       "<table border=\"1\" class=\"dataframe\">\n",
       "  <thead>\n",
       "    <tr style=\"text-align: right;\">\n",
       "      <th></th>\n",
       "      <th>id</th>\n",
       "      <th>name</th>\n",
       "      <th>age</th>\n",
       "      <th>city</th>\n",
       "      <th>_dlt_load_id</th>\n",
       "      <th>_dlt_id</th>\n",
       "      <th>occupation</th>\n",
       "    </tr>\n",
       "  </thead>\n",
       "  <tbody>\n",
       "    <tr>\n",
       "      <th>0</th>\n",
       "      <td>1</td>\n",
       "      <td>Person_1</td>\n",
       "      <td>26</td>\n",
       "      <td>City_A</td>\n",
       "      <td>1708492132.68431</td>\n",
       "      <td>mcGo1JXGUcwsqw</td>\n",
       "      <td>None</td>\n",
       "    </tr>\n",
       "    <tr>\n",
       "      <th>1</th>\n",
       "      <td>2</td>\n",
       "      <td>Person_2</td>\n",
       "      <td>27</td>\n",
       "      <td>City_A</td>\n",
       "      <td>1708492132.68431</td>\n",
       "      <td>1eZgp8i1XdWDRQ</td>\n",
       "      <td>None</td>\n",
       "    </tr>\n",
       "    <tr>\n",
       "      <th>2</th>\n",
       "      <td>3</td>\n",
       "      <td>Person_3</td>\n",
       "      <td>28</td>\n",
       "      <td>City_A</td>\n",
       "      <td>1708492132.68431</td>\n",
       "      <td>ESGIDz/aijVM3w</td>\n",
       "      <td>None</td>\n",
       "    </tr>\n",
       "    <tr>\n",
       "      <th>3</th>\n",
       "      <td>4</td>\n",
       "      <td>Person_4</td>\n",
       "      <td>29</td>\n",
       "      <td>City_A</td>\n",
       "      <td>1708492132.68431</td>\n",
       "      <td>ibaqdwuYW1FN8A</td>\n",
       "      <td>None</td>\n",
       "    </tr>\n",
       "    <tr>\n",
       "      <th>4</th>\n",
       "      <td>5</td>\n",
       "      <td>Person_5</td>\n",
       "      <td>30</td>\n",
       "      <td>City_A</td>\n",
       "      <td>1708492132.68431</td>\n",
       "      <td>GSwjYHMCrc66HQ</td>\n",
       "      <td>None</td>\n",
       "    </tr>\n",
       "    <tr>\n",
       "      <th>5</th>\n",
       "      <td>3</td>\n",
       "      <td>Person_3</td>\n",
       "      <td>33</td>\n",
       "      <td>City_B</td>\n",
       "      <td>1708492133.478368</td>\n",
       "      <td>kX5M6urAdKvb3A</td>\n",
       "      <td>Job_3</td>\n",
       "    </tr>\n",
       "    <tr>\n",
       "      <th>6</th>\n",
       "      <td>4</td>\n",
       "      <td>Person_4</td>\n",
       "      <td>34</td>\n",
       "      <td>City_B</td>\n",
       "      <td>1708492133.478368</td>\n",
       "      <td>4okx1hnGTAfrww</td>\n",
       "      <td>Job_4</td>\n",
       "    </tr>\n",
       "    <tr>\n",
       "      <th>7</th>\n",
       "      <td>5</td>\n",
       "      <td>Person_5</td>\n",
       "      <td>35</td>\n",
       "      <td>City_B</td>\n",
       "      <td>1708492133.478368</td>\n",
       "      <td>jrEAHjNCc18EEQ</td>\n",
       "      <td>Job_5</td>\n",
       "    </tr>\n",
       "    <tr>\n",
       "      <th>8</th>\n",
       "      <td>6</td>\n",
       "      <td>Person_6</td>\n",
       "      <td>36</td>\n",
       "      <td>City_B</td>\n",
       "      <td>1708492133.478368</td>\n",
       "      <td>vJbKKJTkEM07/w</td>\n",
       "      <td>Job_6</td>\n",
       "    </tr>\n",
       "    <tr>\n",
       "      <th>9</th>\n",
       "      <td>7</td>\n",
       "      <td>Person_7</td>\n",
       "      <td>37</td>\n",
       "      <td>City_B</td>\n",
       "      <td>1708492133.478368</td>\n",
       "      <td>hhWSN6p9hhs58Q</td>\n",
       "      <td>Job_7</td>\n",
       "    </tr>\n",
       "    <tr>\n",
       "      <th>10</th>\n",
       "      <td>8</td>\n",
       "      <td>Person_8</td>\n",
       "      <td>38</td>\n",
       "      <td>City_B</td>\n",
       "      <td>1708492133.478368</td>\n",
       "      <td>sDplsZWyt+OMnA</td>\n",
       "      <td>Job_8</td>\n",
       "    </tr>\n",
       "  </tbody>\n",
       "</table>\n",
       "</div>"
      ],
      "text/plain": [
       "    id      name  age    city       _dlt_load_id         _dlt_id occupation\n",
       "0    1  Person_1   26  City_A   1708492132.68431  mcGo1JXGUcwsqw       None\n",
       "1    2  Person_2   27  City_A   1708492132.68431  1eZgp8i1XdWDRQ       None\n",
       "2    3  Person_3   28  City_A   1708492132.68431  ESGIDz/aijVM3w       None\n",
       "3    4  Person_4   29  City_A   1708492132.68431  ibaqdwuYW1FN8A       None\n",
       "4    5  Person_5   30  City_A   1708492132.68431  GSwjYHMCrc66HQ       None\n",
       "5    3  Person_3   33  City_B  1708492133.478368  kX5M6urAdKvb3A      Job_3\n",
       "6    4  Person_4   34  City_B  1708492133.478368  4okx1hnGTAfrww      Job_4\n",
       "7    5  Person_5   35  City_B  1708492133.478368  jrEAHjNCc18EEQ      Job_5\n",
       "8    6  Person_6   36  City_B  1708492133.478368  vJbKKJTkEM07/w      Job_6\n",
       "9    7  Person_7   37  City_B  1708492133.478368  hhWSN6p9hhs58Q      Job_7\n",
       "10   8  Person_8   38  City_B  1708492133.478368  sDplsZWyt+OMnA      Job_8"
      ]
     },
     "execution_count": 8,
     "metadata": {},
     "output_type": "execute_result"
    }
   ],
   "source": [
    "connection = duckdb.connect(f'{pipeline.pipeline_name}.duckdb')\n",
    "connection.sql(f\"SET search_path = '{pipeline.dataset_name}'\")\n",
    "\n",
    "print(f'Tables: \\n{connection.sql(\"show tables\")}')\n",
    "connection.sql(\"select * from persons\").df()"
   ]
  },
  {
   "cell_type": "code",
   "execution_count": 9,
   "id": "fccaed7a-0b40-47d3-88f7-cd802c48734c",
   "metadata": {},
   "outputs": [
    {
     "data": {
      "text/html": [
       "<div>\n",
       "<style scoped>\n",
       "    .dataframe tbody tr th:only-of-type {\n",
       "        vertical-align: middle;\n",
       "    }\n",
       "\n",
       "    .dataframe tbody tr th {\n",
       "        vertical-align: top;\n",
       "    }\n",
       "\n",
       "    .dataframe thead th {\n",
       "        text-align: right;\n",
       "    }\n",
       "</style>\n",
       "<table border=\"1\" class=\"dataframe\">\n",
       "  <thead>\n",
       "    <tr style=\"text-align: right;\">\n",
       "      <th></th>\n",
       "      <th>sum_of_ages</th>\n",
       "    </tr>\n",
       "  </thead>\n",
       "  <tbody>\n",
       "    <tr>\n",
       "      <th>0</th>\n",
       "      <td>353.0</td>\n",
       "    </tr>\n",
       "  </tbody>\n",
       "</table>\n",
       "</div>"
      ],
      "text/plain": [
       "   sum_of_ages\n",
       "0        353.0"
      ]
     },
     "execution_count": 9,
     "metadata": {},
     "output_type": "execute_result"
    }
   ],
   "source": [
    "connection.sql(' SELECT SUM(\"age\") as sum_of_ages FROM persons').df()"
   ]
  },
  {
   "cell_type": "markdown",
   "id": "1253742a-62ee-4aca-a2bf-bb1a3b750254",
   "metadata": {},
   "source": [
    "Question 4: Merge the 2 generators using the ID column. Calculate the sum of ages of all the people loaded as described above."
   ]
  },
  {
   "cell_type": "code",
   "execution_count": 10,
   "id": "1bcfd983-6c68-429f-a6e1-0dcc92f92ffc",
   "metadata": {},
   "outputs": [
    {
     "name": "stdout",
     "output_type": "stream",
     "text": [
      "{'ID': 1, 'Name': 'Person_1', 'Age': 26, 'City': 'City_A'}\n",
      "{'ID': 2, 'Name': 'Person_2', 'Age': 27, 'City': 'City_A'}\n",
      "{'ID': 3, 'Name': 'Person_3', 'Age': 28, 'City': 'City_A'}\n",
      "{'ID': 4, 'Name': 'Person_4', 'Age': 29, 'City': 'City_A'}\n",
      "{'ID': 5, 'Name': 'Person_5', 'Age': 30, 'City': 'City_A'}\n",
      "Pipeline dlt_ipykernel_launcher load step completed in 0.18 seconds\n",
      "1 load package(s) were loaded to destination duckdb and into dataset citizens\n",
      "The duckdb destination used duckdb:////Users/iamraphson/instinct-seekers/open-source/DE-zoom-camp-2024/week4/4_dlt_workshop/dlt_ipykernel_launcher.duckdb location to store data\n",
      "Load package 1708492135.284978 is LOADED and contains no failed jobs\n"
     ]
    }
   ],
   "source": [
    "for person in people1():\n",
    "    print(person)\n",
    "\n",
    "pipeline4 = dlt.pipeline(destination='duckdb', dataset_name='citizens')\n",
    "load_info4 = pipeline4.run(people1(), table_name=\"members\", write_disposition=\"replace\", primary_key='id')\n",
    "print(load_info4)"
   ]
  },
  {
   "cell_type": "code",
   "execution_count": 11,
   "id": "28ef070b-7f28-478c-8872-857ee9d11c4f",
   "metadata": {},
   "outputs": [
    {
     "name": "stdout",
     "output_type": "stream",
     "text": [
      "Tables: \n",
      "┌─────────────────────┐\n",
      "│        name         │\n",
      "│       varchar       │\n",
      "├─────────────────────┤\n",
      "│ _dlt_loads          │\n",
      "│ _dlt_pipeline_state │\n",
      "│ _dlt_version        │\n",
      "│ members             │\n",
      "└─────────────────────┘\n",
      "\n"
     ]
    },
    {
     "data": {
      "text/html": [
       "<div>\n",
       "<style scoped>\n",
       "    .dataframe tbody tr th:only-of-type {\n",
       "        vertical-align: middle;\n",
       "    }\n",
       "\n",
       "    .dataframe tbody tr th {\n",
       "        vertical-align: top;\n",
       "    }\n",
       "\n",
       "    .dataframe thead th {\n",
       "        text-align: right;\n",
       "    }\n",
       "</style>\n",
       "<table border=\"1\" class=\"dataframe\">\n",
       "  <thead>\n",
       "    <tr style=\"text-align: right;\">\n",
       "      <th></th>\n",
       "      <th>id</th>\n",
       "      <th>name</th>\n",
       "      <th>age</th>\n",
       "      <th>city</th>\n",
       "      <th>_dlt_load_id</th>\n",
       "      <th>_dlt_id</th>\n",
       "      <th>occupation</th>\n",
       "    </tr>\n",
       "  </thead>\n",
       "  <tbody>\n",
       "    <tr>\n",
       "      <th>0</th>\n",
       "      <td>1</td>\n",
       "      <td>Person_1</td>\n",
       "      <td>26</td>\n",
       "      <td>City_A</td>\n",
       "      <td>1708492135.284978</td>\n",
       "      <td>+OsTEDuqjEbabw</td>\n",
       "      <td>None</td>\n",
       "    </tr>\n",
       "    <tr>\n",
       "      <th>1</th>\n",
       "      <td>2</td>\n",
       "      <td>Person_2</td>\n",
       "      <td>27</td>\n",
       "      <td>City_A</td>\n",
       "      <td>1708492135.284978</td>\n",
       "      <td>Qqz7juvm3zTiCg</td>\n",
       "      <td>None</td>\n",
       "    </tr>\n",
       "    <tr>\n",
       "      <th>2</th>\n",
       "      <td>3</td>\n",
       "      <td>Person_3</td>\n",
       "      <td>28</td>\n",
       "      <td>City_A</td>\n",
       "      <td>1708492135.284978</td>\n",
       "      <td>mPYdsRS0FHXzWg</td>\n",
       "      <td>None</td>\n",
       "    </tr>\n",
       "    <tr>\n",
       "      <th>3</th>\n",
       "      <td>4</td>\n",
       "      <td>Person_4</td>\n",
       "      <td>29</td>\n",
       "      <td>City_A</td>\n",
       "      <td>1708492135.284978</td>\n",
       "      <td>VSf3EapxzabIIg</td>\n",
       "      <td>None</td>\n",
       "    </tr>\n",
       "    <tr>\n",
       "      <th>4</th>\n",
       "      <td>5</td>\n",
       "      <td>Person_5</td>\n",
       "      <td>30</td>\n",
       "      <td>City_A</td>\n",
       "      <td>1708492135.284978</td>\n",
       "      <td>ypAtXNSY1R3kbA</td>\n",
       "      <td>None</td>\n",
       "    </tr>\n",
       "  </tbody>\n",
       "</table>\n",
       "</div>"
      ],
      "text/plain": [
       "   id      name  age    city       _dlt_load_id         _dlt_id occupation\n",
       "0   1  Person_1   26  City_A  1708492135.284978  +OsTEDuqjEbabw       None\n",
       "1   2  Person_2   27  City_A  1708492135.284978  Qqz7juvm3zTiCg       None\n",
       "2   3  Person_3   28  City_A  1708492135.284978  mPYdsRS0FHXzWg       None\n",
       "3   4  Person_4   29  City_A  1708492135.284978  VSf3EapxzabIIg       None\n",
       "4   5  Person_5   30  City_A  1708492135.284978  ypAtXNSY1R3kbA       None"
      ]
     },
     "execution_count": 11,
     "metadata": {},
     "output_type": "execute_result"
    }
   ],
   "source": [
    "connection = duckdb.connect(f'{pipeline4.pipeline_name}.duckdb')\n",
    "connection.sql(f\"SET search_path = '{pipeline4.dataset_name}'\")\n",
    "\n",
    "print(f'Tables: \\n{connection.sql(\"show tables\")}')\n",
    "connection.sql(\"select * from members\").df()"
   ]
  },
  {
   "cell_type": "code",
   "execution_count": 12,
   "id": "32380e0d-a4fb-4dc4-9f59-fb66446f6824",
   "metadata": {},
   "outputs": [
    {
     "name": "stdout",
     "output_type": "stream",
     "text": [
      "{'ID': 3, 'Name': 'Person_3', 'Age': 33, 'City': 'City_B', 'Occupation': 'Job_3'}\n",
      "{'ID': 4, 'Name': 'Person_4', 'Age': 34, 'City': 'City_B', 'Occupation': 'Job_4'}\n",
      "{'ID': 5, 'Name': 'Person_5', 'Age': 35, 'City': 'City_B', 'Occupation': 'Job_5'}\n",
      "{'ID': 6, 'Name': 'Person_6', 'Age': 36, 'City': 'City_B', 'Occupation': 'Job_6'}\n",
      "{'ID': 7, 'Name': 'Person_7', 'Age': 37, 'City': 'City_B', 'Occupation': 'Job_7'}\n",
      "{'ID': 8, 'Name': 'Person_8', 'Age': 38, 'City': 'City_B', 'Occupation': 'Job_8'}\n",
      "Pipeline dlt_ipykernel_launcher load step completed in 0.18 seconds\n",
      "1 load package(s) were loaded to destination duckdb and into dataset people_dataset\n",
      "The duckdb destination used duckdb:////Users/iamraphson/instinct-seekers/open-source/DE-zoom-camp-2024/week4/4_dlt_workshop/dlt_ipykernel_launcher.duckdb location to store data\n",
      "Load package 1708492133.478368 is LOADED and contains no failed jobs\n"
     ]
    }
   ],
   "source": [
    "for person in people2():\n",
    "    print(person)\n",
    "\n",
    "load_info4 = pipeline4.run(people2(),\n",
    "                        table_name=\"members\",\n",
    "                        write_disposition=\"merge\",\n",
    "                        primary_key='id')\n",
    "\n",
    "print(load_info)"
   ]
  },
  {
   "cell_type": "code",
   "execution_count": 13,
   "id": "3e9af143-4f4e-4fe1-ad3c-a71d7cb5edb2",
   "metadata": {},
   "outputs": [
    {
     "name": "stdout",
     "output_type": "stream",
     "text": [
      "Tables: \n",
      "┌─────────────────────┐\n",
      "│        name         │\n",
      "│       varchar       │\n",
      "├─────────────────────┤\n",
      "│ _dlt_loads          │\n",
      "│ _dlt_pipeline_state │\n",
      "│ _dlt_version        │\n",
      "│ members             │\n",
      "└─────────────────────┘\n",
      "\n"
     ]
    },
    {
     "data": {
      "text/html": [
       "<div>\n",
       "<style scoped>\n",
       "    .dataframe tbody tr th:only-of-type {\n",
       "        vertical-align: middle;\n",
       "    }\n",
       "\n",
       "    .dataframe tbody tr th {\n",
       "        vertical-align: top;\n",
       "    }\n",
       "\n",
       "    .dataframe thead th {\n",
       "        text-align: right;\n",
       "    }\n",
       "</style>\n",
       "<table border=\"1\" class=\"dataframe\">\n",
       "  <thead>\n",
       "    <tr style=\"text-align: right;\">\n",
       "      <th></th>\n",
       "      <th>id</th>\n",
       "      <th>name</th>\n",
       "      <th>age</th>\n",
       "      <th>city</th>\n",
       "      <th>_dlt_load_id</th>\n",
       "      <th>_dlt_id</th>\n",
       "      <th>occupation</th>\n",
       "    </tr>\n",
       "  </thead>\n",
       "  <tbody>\n",
       "    <tr>\n",
       "      <th>0</th>\n",
       "      <td>1</td>\n",
       "      <td>Person_1</td>\n",
       "      <td>26</td>\n",
       "      <td>City_A</td>\n",
       "      <td>1708492135.284978</td>\n",
       "      <td>+OsTEDuqjEbabw</td>\n",
       "      <td>None</td>\n",
       "    </tr>\n",
       "    <tr>\n",
       "      <th>1</th>\n",
       "      <td>2</td>\n",
       "      <td>Person_2</td>\n",
       "      <td>27</td>\n",
       "      <td>City_A</td>\n",
       "      <td>1708492135.284978</td>\n",
       "      <td>Qqz7juvm3zTiCg</td>\n",
       "      <td>None</td>\n",
       "    </tr>\n",
       "    <tr>\n",
       "      <th>2</th>\n",
       "      <td>7</td>\n",
       "      <td>Person_7</td>\n",
       "      <td>37</td>\n",
       "      <td>City_B</td>\n",
       "      <td>1708492139.6964438</td>\n",
       "      <td>xUgk+qIDUe0K2Q</td>\n",
       "      <td>Job_7</td>\n",
       "    </tr>\n",
       "    <tr>\n",
       "      <th>3</th>\n",
       "      <td>3</td>\n",
       "      <td>Person_3</td>\n",
       "      <td>33</td>\n",
       "      <td>City_B</td>\n",
       "      <td>1708492139.6964438</td>\n",
       "      <td>MVjzmULeba9BHg</td>\n",
       "      <td>Job_3</td>\n",
       "    </tr>\n",
       "    <tr>\n",
       "      <th>4</th>\n",
       "      <td>6</td>\n",
       "      <td>Person_6</td>\n",
       "      <td>36</td>\n",
       "      <td>City_B</td>\n",
       "      <td>1708492139.6964438</td>\n",
       "      <td>wjkcJvz8BSKy7g</td>\n",
       "      <td>Job_6</td>\n",
       "    </tr>\n",
       "    <tr>\n",
       "      <th>5</th>\n",
       "      <td>4</td>\n",
       "      <td>Person_4</td>\n",
       "      <td>34</td>\n",
       "      <td>City_B</td>\n",
       "      <td>1708492139.6964438</td>\n",
       "      <td>MXua84juVEfi3g</td>\n",
       "      <td>Job_4</td>\n",
       "    </tr>\n",
       "    <tr>\n",
       "      <th>6</th>\n",
       "      <td>5</td>\n",
       "      <td>Person_5</td>\n",
       "      <td>35</td>\n",
       "      <td>City_B</td>\n",
       "      <td>1708492139.6964438</td>\n",
       "      <td>yE/o5ggWtU5cxw</td>\n",
       "      <td>Job_5</td>\n",
       "    </tr>\n",
       "    <tr>\n",
       "      <th>7</th>\n",
       "      <td>8</td>\n",
       "      <td>Person_8</td>\n",
       "      <td>38</td>\n",
       "      <td>City_B</td>\n",
       "      <td>1708492139.6964438</td>\n",
       "      <td>lnVELyTRkJzxoA</td>\n",
       "      <td>Job_8</td>\n",
       "    </tr>\n",
       "  </tbody>\n",
       "</table>\n",
       "</div>"
      ],
      "text/plain": [
       "   id      name  age    city        _dlt_load_id         _dlt_id occupation\n",
       "0   1  Person_1   26  City_A   1708492135.284978  +OsTEDuqjEbabw       None\n",
       "1   2  Person_2   27  City_A   1708492135.284978  Qqz7juvm3zTiCg       None\n",
       "2   7  Person_7   37  City_B  1708492139.6964438  xUgk+qIDUe0K2Q      Job_7\n",
       "3   3  Person_3   33  City_B  1708492139.6964438  MVjzmULeba9BHg      Job_3\n",
       "4   6  Person_6   36  City_B  1708492139.6964438  wjkcJvz8BSKy7g      Job_6\n",
       "5   4  Person_4   34  City_B  1708492139.6964438  MXua84juVEfi3g      Job_4\n",
       "6   5  Person_5   35  City_B  1708492139.6964438  yE/o5ggWtU5cxw      Job_5\n",
       "7   8  Person_8   38  City_B  1708492139.6964438  lnVELyTRkJzxoA      Job_8"
      ]
     },
     "execution_count": 13,
     "metadata": {},
     "output_type": "execute_result"
    }
   ],
   "source": [
    "connection = duckdb.connect(f'{pipeline4.pipeline_name}.duckdb')\n",
    "connection.sql(f\"SET search_path = '{pipeline4.dataset_name}'\")\n",
    "\n",
    "print(f'Tables: \\n{connection.sql(\"show tables\")}')\n",
    "connection.sql(\"select * from members\").df()"
   ]
  },
  {
   "cell_type": "code",
   "execution_count": 14,
   "id": "0da449a3-3ccd-4b1b-9376-c77366377103",
   "metadata": {},
   "outputs": [
    {
     "data": {
      "text/html": [
       "<div>\n",
       "<style scoped>\n",
       "    .dataframe tbody tr th:only-of-type {\n",
       "        vertical-align: middle;\n",
       "    }\n",
       "\n",
       "    .dataframe tbody tr th {\n",
       "        vertical-align: top;\n",
       "    }\n",
       "\n",
       "    .dataframe thead th {\n",
       "        text-align: right;\n",
       "    }\n",
       "</style>\n",
       "<table border=\"1\" class=\"dataframe\">\n",
       "  <thead>\n",
       "    <tr style=\"text-align: right;\">\n",
       "      <th></th>\n",
       "      <th>sum_of_ages</th>\n",
       "    </tr>\n",
       "  </thead>\n",
       "  <tbody>\n",
       "    <tr>\n",
       "      <th>0</th>\n",
       "      <td>266.0</td>\n",
       "    </tr>\n",
       "  </tbody>\n",
       "</table>\n",
       "</div>"
      ],
      "text/plain": [
       "   sum_of_ages\n",
       "0        266.0"
      ]
     },
     "execution_count": 14,
     "metadata": {},
     "output_type": "execute_result"
    }
   ],
   "source": [
    "connection.sql(' SELECT SUM(\"age\") as sum_of_ages FROM members').df()"
   ]
  },
  {
   "cell_type": "code",
   "execution_count": null,
   "id": "7f232029-2c57-4f53-bb3b-ba91f1d515b7",
   "metadata": {},
   "outputs": [],
   "source": []
  }
 ],
 "metadata": {
  "kernelspec": {
   "display_name": "Python 3 (ipykernel)",
   "language": "python",
   "name": "python3"
  },
  "language_info": {
   "codemirror_mode": {
    "name": "ipython",
    "version": 3
   },
   "file_extension": ".py",
   "mimetype": "text/x-python",
   "name": "python",
   "nbconvert_exporter": "python",
   "pygments_lexer": "ipython3",
   "version": "3.11.1"
  }
 },
 "nbformat": 4,
 "nbformat_minor": 5
}
